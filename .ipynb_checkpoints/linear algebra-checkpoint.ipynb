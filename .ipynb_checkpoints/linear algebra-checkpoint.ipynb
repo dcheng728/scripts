{
 "cells": [
  {
   "cell_type": "code",
   "execution_count": 6,
   "id": "b2ca8208",
   "metadata": {},
   "outputs": [
    {
     "data": {
      "text/plain": [
       "theta"
      ]
     },
     "execution_count": 6,
     "metadata": {},
     "output_type": "execute_result"
    }
   ],
   "source": []
  },
  {
   "cell_type": "code",
   "execution_count": 8,
   "id": "f186a85f",
   "metadata": {},
   "outputs": [],
   "source": [
    "sigmas = [matrix([[0,1],[1,0]]), matrix([[0,-i],[i,0]]),matrix([[1,0],[0,-1]])]"
   ]
  },
  {
   "cell_type": "code",
   "execution_count": 37,
   "id": "1526d550",
   "metadata": {},
   "outputs": [
    {
     "data": {
      "text/plain": [
       "\\left[\\left(\\begin{array}{rr}\n",
       "0 & 1 \\\\\n",
       "1 & 0\n",
       "\\end{array}\\right), \\left(\\begin{array}{rr}\n",
       "0 & -i \\\\\n",
       "i & 0\n",
       "\\end{array}\\right), \\left(\\begin{array}{rr}\n",
       "1 & 0 \\\\\n",
       "0 & -1\n",
       "\\end{array}\\right)\\right]"
      ]
     },
     "execution_count": 37,
     "metadata": {},
     "output_type": "execute_result"
    }
   ],
   "source": [
    "latex(sigmas)"
   ]
  },
  {
   "cell_type": "code",
   "execution_count": 31,
   "id": "3039b3be",
   "metadata": {},
   "outputs": [],
   "source": [
    "view(sigmas)"
   ]
  },
  {
   "cell_type": "code",
   "execution_count": 36,
   "id": "c641828c",
   "metadata": {},
   "outputs": [
    {
     "data": {
      "text/plain": [
       "theta"
      ]
     },
     "execution_count": 36,
     "metadata": {},
     "output_type": "execute_result"
    }
   ],
   "source": [
    "var('theta')"
   ]
  },
  {
   "cell_type": "code",
   "execution_count": 10,
   "id": "3f7bfdbc",
   "metadata": {},
   "outputs": [
    {
     "data": {
      "text/plain": [
       "[ 0 -I]\n",
       "[ I  0]"
      ]
     },
     "execution_count": 10,
     "metadata": {},
     "output_type": "execute_result"
    }
   ],
   "source": [
    "sigmas[1]"
   ]
  },
  {
   "cell_type": "code",
   "execution_count": 12,
   "id": "59972660",
   "metadata": {},
   "outputs": [
    {
     "data": {
      "text/plain": [
       "[ e^(1/2*I*theta)                0]\n",
       "[               0 e^(-1/2*I*theta)]"
      ]
     },
     "execution_count": 12,
     "metadata": {},
     "output_type": "execute_result"
    }
   ],
   "source": [
    "e^(i*(1/2) * sigmas[2] * theta)"
   ]
  },
  {
   "cell_type": "code",
   "execution_count": 13,
   "id": "21a93d08",
   "metadata": {},
   "outputs": [
    {
     "data": {
      "text/plain": [
       "[e^(-1/2*I*theta)                0]\n",
       "[               0  e^(1/2*I*theta)]"
      ]
     },
     "execution_count": 13,
     "metadata": {},
     "output_type": "execute_result"
    }
   ],
   "source": [
    "e^(-i*(1/2) * sigmas[2] * theta)"
   ]
  },
  {
   "cell_type": "code",
   "execution_count": 21,
   "id": "f6112a4a",
   "metadata": {},
   "outputs": [
    {
     "data": {
      "text/plain": [
       "[1 0]\n",
       "[0 1]"
      ]
     },
     "execution_count": 21,
     "metadata": {},
     "output_type": "execute_result"
    }
   ],
   "source": [
    "e^(i*(1/2) * sigmas[2] * theta) * e^(-i*(1/2) * sigmas[2] * theta)"
   ]
  },
  {
   "cell_type": "code",
   "execution_count": null,
   "id": "b39cf5b8",
   "metadata": {},
   "outputs": [],
   "source": []
  },
  {
   "cell_type": "code",
   "execution_count": 39,
   "id": "8ceb6112",
   "metadata": {},
   "outputs": [
    {
     "data": {
      "text/plain": [
       "\\left(\\begin{array}{rr}\n",
       "0 & e^{\\left(i \\, \\theta\\right)} \\\\\n",
       "e^{\\left(-i \\, \\theta\\right)} & 0\n",
       "\\end{array}\\right)"
      ]
     },
     "execution_count": 39,
     "metadata": {},
     "output_type": "execute_result"
    }
   ],
   "source": [
    "e^(i*(1/2) * sigmas[2] * theta) *  sigmas[0] *  e^(-i*(1/2) * sigmas[2] * theta)\n",
    "latex(e^(i*(1/2) * sigmas[2] * theta) *  sigmas[0] *  e^(-i*(1/2) * sigmas[2] * theta))"
   ]
  },
  {
   "cell_type": "code",
   "execution_count": null,
   "id": "81d781c6",
   "metadata": {},
   "outputs": [],
   "source": []
  },
  {
   "cell_type": "code",
   "execution_count": null,
   "id": "67359cc8",
   "metadata": {},
   "outputs": [],
   "source": []
  },
  {
   "cell_type": "code",
   "execution_count": 40,
   "id": "b932c702",
   "metadata": {},
   "outputs": [
    {
     "data": {
      "text/plain": [
       "\\left(\\begin{array}{rr}\n",
       "0 & -i \\, e^{\\left(i \\, \\theta\\right)} \\\\\n",
       "i \\, e^{\\left(-i \\, \\theta\\right)} & 0\n",
       "\\end{array}\\right)"
      ]
     },
     "execution_count": 40,
     "metadata": {},
     "output_type": "execute_result"
    }
   ],
   "source": [
    "e^(i*(1/2) * sigmas[2] * theta) *  sigmas[1] *  e^(-i*(1/2) * sigmas[2] * theta)\n",
    "latex(e^(i*(1/2) * sigmas[2] * theta) *  sigmas[1] *  e^(-i*(1/2) * sigmas[2] * theta))"
   ]
  },
  {
   "cell_type": "code",
   "execution_count": 41,
   "id": "071954fa",
   "metadata": {},
   "outputs": [
    {
     "data": {
      "text/plain": [
       "\\left(\\begin{array}{rr}\n",
       "1 & 0 \\\\\n",
       "0 & -1\n",
       "\\end{array}\\right)"
      ]
     },
     "execution_count": 41,
     "metadata": {},
     "output_type": "execute_result"
    }
   ],
   "source": [
    "e^(i*(1/2) * sigmas[2] * theta) *  sigmas[2] *  e^(-i*(1/2) * sigmas[2] * theta)\n",
    "latex(e^(i*(1/2) * sigmas[2] * theta) *  sigmas[2] *  e^(-i*(1/2) * sigmas[2] * theta))"
   ]
  },
  {
   "cell_type": "code",
   "execution_count": 43,
   "id": "2acae9f5",
   "metadata": {},
   "outputs": [],
   "source": [
    "Rz = matrix([cos(theta),-sin(theta),0],[[sin(theta),cos(theta),0],[0,0,1]])"
   ]
  },
  {
   "cell_type": "code",
   "execution_count": 44,
   "id": "384cd105",
   "metadata": {},
   "outputs": [],
   "source": [
    "view(Rz)"
   ]
  },
  {
   "cell_type": "code",
   "execution_count": null,
   "id": "52ad98f8",
   "metadata": {},
   "outputs": [],
   "source": []
  }
 ],
 "metadata": {
  "kernelspec": {
   "display_name": "SageMath 9.7",
   "language": "sage",
   "name": "sagemath-9.7"
  },
  "language_info": {
   "codemirror_mode": {
    "name": "ipython",
    "version": 3
   },
   "file_extension": ".py",
   "mimetype": "text/x-python",
   "name": "python",
   "nbconvert_exporter": "python",
   "pygments_lexer": "ipython3",
   "version": "3.10.5"
  }
 },
 "nbformat": 4,
 "nbformat_minor": 5
}
