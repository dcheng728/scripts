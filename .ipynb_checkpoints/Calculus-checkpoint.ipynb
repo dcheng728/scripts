{
 "cells": [
  {
   "cell_type": "markdown",
   "id": "607da978",
   "metadata": {},
   "source": [
    "# Differentiation"
   ]
  },
  {
   "cell_type": "code",
   "execution_count": null,
   "id": "983c7e00",
   "metadata": {},
   "outputs": [],
   "source": []
  },
  {
   "cell_type": "code",
   "execution_count": null,
   "id": "4e52f8d3",
   "metadata": {},
   "outputs": [],
   "source": []
  },
  {
   "cell_type": "code",
   "execution_count": null,
   "id": "8c8f5307",
   "metadata": {},
   "outputs": [],
   "source": []
  },
  {
   "cell_type": "markdown",
   "id": "9a891f57",
   "metadata": {},
   "source": [
    "# Indefinite Integral"
   ]
  },
  {
   "cell_type": "code",
   "execution_count": 22,
   "id": "44e157e5",
   "metadata": {},
   "outputs": [],
   "source": [
    "from sage.symbolic.integration.integral import indefinite_integral"
   ]
  },
  {
   "cell_type": "code",
   "execution_count": 23,
   "id": "3867c257",
   "metadata": {},
   "outputs": [
    {
     "data": {
      "text/plain": [
       "(x, m, k, T)"
      ]
     },
     "execution_count": 23,
     "metadata": {},
     "output_type": "execute_result"
    }
   ],
   "source": [
    "var('x m k T')"
   ]
  },
  {
   "cell_type": "code",
   "execution_count": 24,
   "id": "4c3ccc97",
   "metadata": {},
   "outputs": [],
   "source": [
    "f(x) = x^2 * e^(-m*x^2/(2*k*T))"
   ]
  },
  {
   "cell_type": "code",
   "execution_count": 25,
   "id": "3b2ba4d7",
   "metadata": {},
   "outputs": [],
   "source": [
    "view(indefinite_integral(f(x), x))"
   ]
  },
  {
   "cell_type": "code",
   "execution_count": null,
   "id": "9be0c391",
   "metadata": {},
   "outputs": [],
   "source": []
  },
  {
   "cell_type": "code",
   "execution_count": null,
   "id": "6478718c",
   "metadata": {},
   "outputs": [],
   "source": []
  },
  {
   "cell_type": "markdown",
   "id": "61b4e8b8",
   "metadata": {},
   "source": [
    "# Definite Integral"
   ]
  },
  {
   "cell_type": "code",
   "execution_count": 10,
   "id": "e6150ebd",
   "metadata": {},
   "outputs": [],
   "source": [
    "from sage.symbolic.integration.integral import definite_integral"
   ]
  },
  {
   "cell_type": "code",
   "execution_count": 11,
   "id": "da87e35f",
   "metadata": {},
   "outputs": [
    {
     "data": {
      "text/plain": [
       "(x, m, k, T)"
      ]
     },
     "execution_count": 11,
     "metadata": {},
     "output_type": "execute_result"
    }
   ],
   "source": [
    "var('x m k T')"
   ]
  },
  {
   "cell_type": "code",
   "execution_count": 12,
   "id": "5b33222b",
   "metadata": {},
   "outputs": [],
   "source": [
    "f(x) = x^2 * e^(-m*x^2/(2*k*T))"
   ]
  },
  {
   "cell_type": "code",
   "execution_count": 21,
   "id": "8507a6b9",
   "metadata": {},
   "outputs": [
    {
     "data": {
      "text/plain": [
       "x |--> -T*k*x*e^(-1/2*m*x^2/(T*k))/m + sqrt(1/2)*sqrt(pi)*T*k*erf(sqrt(1/2)*x*sqrt(m/(T*k)))/(m*sqrt(m/(T*k)))"
      ]
     },
     "execution_count": 21,
     "metadata": {},
     "output_type": "execute_result"
    }
   ],
   "source": [
    "f.integral(x)"
   ]
  },
  {
   "cell_type": "code",
   "execution_count": null,
   "id": "2509c7ae",
   "metadata": {},
   "outputs": [],
   "source": []
  },
  {
   "cell_type": "code",
   "execution_count": null,
   "id": "d734555e",
   "metadata": {},
   "outputs": [],
   "source": []
  },
  {
   "cell_type": "code",
   "execution_count": null,
   "id": "b42ad084",
   "metadata": {},
   "outputs": [],
   "source": []
  }
 ],
 "metadata": {
  "kernelspec": {
   "display_name": "SageMath 9.7",
   "language": "sage",
   "name": "sagemath-9.7"
  },
  "language_info": {
   "codemirror_mode": {
    "name": "ipython",
    "version": 3
   },
   "file_extension": ".py",
   "mimetype": "text/x-python",
   "name": "python",
   "nbconvert_exporter": "python",
   "pygments_lexer": "ipython3",
   "version": "3.10.5"
  }
 },
 "nbformat": 4,
 "nbformat_minor": 5
}
