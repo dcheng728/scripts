{
 "cells": [
  {
   "cell_type": "code",
   "execution_count": 9,
   "id": "28908101",
   "metadata": {},
   "outputs": [],
   "source": [
    "import numpy as np"
   ]
  },
  {
   "cell_type": "code",
   "execution_count": 28,
   "id": "b1bc486a",
   "metadata": {},
   "outputs": [],
   "source": [
    "acc = numerical_approx((1/3) * 10 ^-7,digits = 50)"
   ]
  },
  {
   "cell_type": "code",
   "execution_count": 29,
   "id": "9512c4e1",
   "metadata": {},
   "outputs": [
    {
     "data": {
      "text/plain": [
       "3.3333333333333333333333333333333333333333333333333e-8"
      ]
     },
     "execution_count": 29,
     "metadata": {},
     "output_type": "execute_result"
    }
   ],
   "source": [
    "acc"
   ]
  },
  {
   "cell_type": "code",
   "execution_count": 30,
   "id": "3775ff3c",
   "metadata": {},
   "outputs": [],
   "source": [
    "def rel_vel_addition(v0,v1):\n",
    "    return sqrt(1-   (  (1-v0^2)*(1-v1^2)  / (1+v0 *v1)^2  ))"
   ]
  },
  {
   "cell_type": "code",
   "execution_count": 37,
   "id": "4768915c",
   "metadata": {},
   "outputs": [
    {
     "name": "stdout",
     "output_type": "stream",
     "text": [
      "114006035 0.99900000006546685080815385365274463585750668199739\n"
     ]
    }
   ],
   "source": [
    "curr_v = 0\n",
    "\n",
    "for i in range(1000000000):\n",
    "    curr_v =  rel_vel_addition(curr_v,acc)\n",
    "    \n",
    "    if curr_v > 0.999:\n",
    "        print(i,curr_v)\n",
    "        break\n",
    "    #print(numerical_approx(curr_v,digits = 10))"
   ]
  },
  {
   "cell_type": "code",
   "execution_count": 38,
   "id": "25422ca5",
   "metadata": {},
   "outputs": [
    {
     "name": "stdout",
     "output_type": "stream",
     "text": [
      "0.9990000001\n"
     ]
    }
   ],
   "source": [
    "print(numerical_approx(curr_v,digits = 10))"
   ]
  },
  {
   "cell_type": "code",
   "execution_count": null,
   "id": "cc18ad0d",
   "metadata": {},
   "outputs": [],
   "source": []
  }
 ],
 "metadata": {
  "kernelspec": {
   "display_name": "SageMath 9.7",
   "language": "sage",
   "name": "sagemath-9.7"
  },
  "language_info": {
   "codemirror_mode": {
    "name": "ipython",
    "version": 3
   },
   "file_extension": ".py",
   "mimetype": "text/x-python",
   "name": "python",
   "nbconvert_exporter": "python",
   "pygments_lexer": "ipython3",
   "version": "3.10.5"
  }
 },
 "nbformat": 4,
 "nbformat_minor": 5
}
