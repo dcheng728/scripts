{
 "cells": [
  {
   "cell_type": "code",
   "execution_count": 1,
   "id": "cc18ad0d",
   "metadata": {},
   "outputs": [
    {
     "data": {
      "text/plain": [
       "(t, p)"
      ]
     },
     "execution_count": 1,
     "metadata": {},
     "output_type": "execute_result"
    }
   ],
   "source": [
    "var('t p')"
   ]
  },
  {
   "cell_type": "code",
   "execution_count": 3,
   "id": "b77f9fee",
   "metadata": {},
   "outputs": [],
   "source": [
    "A = Matrix([[sin(t) * cos(p),sin(t)*sin(p),cos(t)],[cos(t)*cos(p),cos(t)*sin(p),-sin(t)],[-sin(p),cos(p),0]])"
   ]
  },
  {
   "cell_type": "code",
   "execution_count": 4,
   "id": "e15964f9",
   "metadata": {},
   "outputs": [
    {
     "data": {
      "text/plain": [
       "[cos(p)*sin(t) sin(p)*sin(t)        cos(t)]\n",
       "[cos(p)*cos(t) cos(t)*sin(p)       -sin(t)]\n",
       "[      -sin(p)        cos(p)             0]"
      ]
     },
     "execution_count": 4,
     "metadata": {},
     "output_type": "execute_result"
    }
   ],
   "source": [
    "A"
   ]
  },
  {
   "cell_type": "code",
   "execution_count": 5,
   "id": "68924982",
   "metadata": {},
   "outputs": [
    {
     "data": {
      "text/plain": [
       "[-(cos(t)/(cos(p)*sin(t)) - cos(t)*sin(p)^2/((sin(p)^2/cos(p) + cos(p))*cos(p)^2*sin(t)))*cos(t)/((cos(t)^2/sin(t) + sin(t))*sin(t)) + 1/(cos(p)*sin(t)) - sin(p)^2/((sin(p)^2/cos(p) + cos(p))*cos(p)^2*sin(t))                                                                                              (cos(t)/(cos(p)*sin(t)) - cos(t)*sin(p)^2/((sin(p)^2/cos(p) + cos(p))*cos(p)^2*sin(t)))/(cos(t)^2/sin(t) + sin(t))                                                                                                                                                                     -sin(p)/((sin(p)^2/cos(p) + cos(p))*cos(p))]\n",
       "[                                                                   -cos(t)^2*sin(p)/((sin(p)^2/cos(p) + cos(p))*(cos(t)^2/sin(t) + sin(t))*cos(p)*sin(t)^2) + sin(p)/((sin(p)^2/cos(p) + cos(p))*cos(p)*sin(t))                                                                                                                             cos(t)*sin(p)/((sin(p)^2/cos(p) + cos(p))*(cos(t)^2/sin(t) + sin(t))*cos(p)*sin(t))                                                                                                                                                                                    1/(sin(p)^2/cos(p) + cos(p))]\n",
       "[                                                                                                                                                                     cos(t)/((cos(t)^2/sin(t) + sin(t))*sin(t))                                                                                                                                                                                   -1/(cos(t)^2/sin(t) + sin(t))                                                                                                                                                                                                               0]"
      ]
     },
     "execution_count": 5,
     "metadata": {},
     "output_type": "execute_result"
    }
   ],
   "source": [
    "A.inverse()"
   ]
  },
  {
   "cell_type": "code",
   "execution_count": 9,
   "id": "9beaed8b",
   "metadata": {},
   "outputs": [
    {
     "data": {
      "text/plain": [
       "sqrt(2)"
      ]
     },
     "execution_count": 9,
     "metadata": {},
     "output_type": "execute_result"
    }
   ],
   "source": [
    "sqrt(2)"
   ]
  },
  {
   "cell_type": "code",
   "execution_count": 15,
   "id": "5a979aba",
   "metadata": {},
   "outputs": [
    {
     "data": {
      "text/plain": [
       "2*sqrt(2)"
      ]
     },
     "execution_count": 15,
     "metadata": {},
     "output_type": "execute_result"
    }
   ],
   "source": [
    "sqrt(8)"
   ]
  },
  {
   "cell_type": "code",
   "execution_count": 16,
   "id": "995664ca",
   "metadata": {},
   "outputs": [],
   "source": [
    "def fck(a):\n",
    "    return sqrt(a)**40"
   ]
  },
  {
   "cell_type": "code",
   "execution_count": null,
   "id": "1a9c33c3",
   "metadata": {},
   "outputs": [],
   "source": []
  }
 ],
 "metadata": {
  "kernelspec": {
   "display_name": "SageMath 9.7",
   "language": "sage",
   "name": "sagemath-9.7"
  },
  "language_info": {
   "codemirror_mode": {
    "name": "ipython",
    "version": 3
   },
   "file_extension": ".py",
   "mimetype": "text/x-python",
   "name": "python",
   "nbconvert_exporter": "python",
   "pygments_lexer": "ipython3",
   "version": "3.10.5"
  }
 },
 "nbformat": 4,
 "nbformat_minor": 5
}
