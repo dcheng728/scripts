{
 "cells": [
  {
   "cell_type": "code",
   "execution_count": 6,
   "id": "ea164873",
   "metadata": {},
   "outputs": [
    {
     "data": {
      "text/plain": [
       "theta"
      ]
     },
     "execution_count": 6,
     "metadata": {},
     "output_type": "execute_result"
    }
   ],
   "source": []
  },
  {
   "cell_type": "code",
   "execution_count": 8,
   "id": "62cfb80f",
   "metadata": {},
   "outputs": [],
   "source": [
    "sigmas = [matrix([[0,1],[1,0]]), matrix([[0,-i],[i,0]]),matrix([[1,0],[0,-1]])]"
   ]
  },
  {
   "cell_type": "code",
   "execution_count": 64,
   "id": "a5c82694",
   "metadata": {},
   "outputs": [
    {
     "data": {
      "text/plain": [
       "[\n",
       "[0 1]  [ 0 -I]  [ 1  0]\n",
       "[1 0], [ I  0], [ 0 -1]\n",
       "]"
      ]
     },
     "execution_count": 64,
     "metadata": {},
     "output_type": "execute_result"
    }
   ],
   "source": [
    "sigmas"
   ]
  },
  {
   "cell_type": "code",
   "execution_count": 37,
   "id": "2cdf6f8d",
   "metadata": {},
   "outputs": [
    {
     "data": {
      "text/plain": [
       "\\left[\\left(\\begin{array}{rr}\n",
       "0 & 1 \\\\\n",
       "1 & 0\n",
       "\\end{array}\\right), \\left(\\begin{array}{rr}\n",
       "0 & -i \\\\\n",
       "i & 0\n",
       "\\end{array}\\right), \\left(\\begin{array}{rr}\n",
       "1 & 0 \\\\\n",
       "0 & -1\n",
       "\\end{array}\\right)\\right]"
      ]
     },
     "execution_count": 37,
     "metadata": {},
     "output_type": "execute_result"
    }
   ],
   "source": [
    "latex(sigmas)"
   ]
  },
  {
   "cell_type": "code",
   "execution_count": 31,
   "id": "1f9a33eb",
   "metadata": {},
   "outputs": [],
   "source": [
    "view(sigmas)"
   ]
  },
  {
   "cell_type": "code",
   "execution_count": 59,
   "id": "82c1e94c",
   "metadata": {},
   "outputs": [
    {
     "data": {
      "text/plain": [
       "(theta, phi)"
      ]
     },
     "execution_count": 59,
     "metadata": {},
     "output_type": "execute_result"
    }
   ],
   "source": [
    "var('theta, phi')"
   ]
  },
  {
   "cell_type": "code",
   "execution_count": 10,
   "id": "a607546d",
   "metadata": {},
   "outputs": [
    {
     "data": {
      "text/plain": [
       "[ 0 -I]\n",
       "[ I  0]"
      ]
     },
     "execution_count": 10,
     "metadata": {},
     "output_type": "execute_result"
    }
   ],
   "source": [
    "sigmas[1]"
   ]
  },
  {
   "cell_type": "code",
   "execution_count": 12,
   "id": "061f1ba4",
   "metadata": {},
   "outputs": [
    {
     "data": {
      "text/plain": [
       "[ e^(1/2*I*theta)                0]\n",
       "[               0 e^(-1/2*I*theta)]"
      ]
     },
     "execution_count": 12,
     "metadata": {},
     "output_type": "execute_result"
    }
   ],
   "source": [
    "e^(i*(1/2) * sigmas[2] * theta)"
   ]
  },
  {
   "cell_type": "code",
   "execution_count": 13,
   "id": "ec3888a2",
   "metadata": {},
   "outputs": [
    {
     "data": {
      "text/plain": [
       "[e^(-1/2*I*theta)                0]\n",
       "[               0  e^(1/2*I*theta)]"
      ]
     },
     "execution_count": 13,
     "metadata": {},
     "output_type": "execute_result"
    }
   ],
   "source": [
    "e^(-i*(1/2) * sigmas[2] * theta)"
   ]
  },
  {
   "cell_type": "code",
   "execution_count": 21,
   "id": "5ddf8c48",
   "metadata": {},
   "outputs": [
    {
     "data": {
      "text/plain": [
       "[1 0]\n",
       "[0 1]"
      ]
     },
     "execution_count": 21,
     "metadata": {},
     "output_type": "execute_result"
    }
   ],
   "source": [
    "e^(i*(1/2) * sigmas[2] * theta) * e^(-i*(1/2) * sigmas[2] * theta)"
   ]
  },
  {
   "cell_type": "code",
   "execution_count": null,
   "id": "35afc868",
   "metadata": {},
   "outputs": [],
   "source": []
  },
  {
   "cell_type": "code",
   "execution_count": 39,
   "id": "9ba4ed8c",
   "metadata": {},
   "outputs": [
    {
     "data": {
      "text/plain": [
       "\\left(\\begin{array}{rr}\n",
       "0 & e^{\\left(i \\, \\theta\\right)} \\\\\n",
       "e^{\\left(-i \\, \\theta\\right)} & 0\n",
       "\\end{array}\\right)"
      ]
     },
     "execution_count": 39,
     "metadata": {},
     "output_type": "execute_result"
    }
   ],
   "source": [
    "e^(i*(1/2) * sigmas[2] * theta) *  sigmas[0] *  e^(-i*(1/2) * sigmas[2] * theta)\n",
    "latex(e^(i*(1/2) * sigmas[2] * theta) *  sigmas[0] *  e^(-i*(1/2) * sigmas[2] * theta))"
   ]
  },
  {
   "cell_type": "code",
   "execution_count": null,
   "id": "6fe3f3a1",
   "metadata": {},
   "outputs": [],
   "source": []
  },
  {
   "cell_type": "code",
   "execution_count": null,
   "id": "84d69624",
   "metadata": {},
   "outputs": [],
   "source": []
  },
  {
   "cell_type": "code",
   "execution_count": 40,
   "id": "ef6eb6ae",
   "metadata": {},
   "outputs": [
    {
     "data": {
      "text/plain": [
       "\\left(\\begin{array}{rr}\n",
       "0 & -i \\, e^{\\left(i \\, \\theta\\right)} \\\\\n",
       "i \\, e^{\\left(-i \\, \\theta\\right)} & 0\n",
       "\\end{array}\\right)"
      ]
     },
     "execution_count": 40,
     "metadata": {},
     "output_type": "execute_result"
    }
   ],
   "source": [
    "e^(i*(1/2) * sigmas[2] * theta) *  sigmas[1] *  e^(-i*(1/2) * sigmas[2] * theta)\n",
    "latex(e^(i*(1/2) * sigmas[2] * theta) *  sigmas[1] *  e^(-i*(1/2) * sigmas[2] * theta))"
   ]
  },
  {
   "cell_type": "code",
   "execution_count": 41,
   "id": "820c1b8c",
   "metadata": {},
   "outputs": [
    {
     "data": {
      "text/plain": [
       "\\left(\\begin{array}{rr}\n",
       "1 & 0 \\\\\n",
       "0 & -1\n",
       "\\end{array}\\right)"
      ]
     },
     "execution_count": 41,
     "metadata": {},
     "output_type": "execute_result"
    }
   ],
   "source": [
    "e^(i*(1/2) * sigmas[2] * theta) *  sigmas[2] *  e^(-i*(1/2) * sigmas[2] * theta)\n",
    "latex(e^(i*(1/2) * sigmas[2] * theta) *  sigmas[2] *  e^(-i*(1/2) * sigmas[2] * theta))"
   ]
  },
  {
   "cell_type": "code",
   "execution_count": 4,
   "id": "9ed3839b",
   "metadata": {},
   "outputs": [
    {
     "ename": "NameError",
     "evalue": "name 'theta' is not defined",
     "output_type": "error",
     "traceback": [
      "\u001b[0;31m---------------------------------------------------------------------------\u001b[0m",
      "\u001b[0;31mNameError\u001b[0m                                 Traceback (most recent call last)",
      "Input \u001b[0;32mIn [4]\u001b[0m, in \u001b[0;36m<cell line: 1>\u001b[0;34m()\u001b[0m\n\u001b[0;32m----> 1\u001b[0m Rz \u001b[38;5;241m=\u001b[39m matrix([[cos(\u001b[43mtheta\u001b[49m),\u001b[38;5;241m-\u001b[39msin(theta),Integer(\u001b[38;5;241m0\u001b[39m)],[sin(theta),cos(theta),Integer(\u001b[38;5;241m0\u001b[39m)],[Integer(\u001b[38;5;241m0\u001b[39m),Integer(\u001b[38;5;241m0\u001b[39m),Integer(\u001b[38;5;241m1\u001b[39m)]])\n",
      "\u001b[0;31mNameError\u001b[0m: name 'theta' is not defined"
     ]
    }
   ],
   "source": [
    "Rz = matrix([[cos(theta),-sin(theta),0],[sin(theta),cos(theta),0],[0,0,1]])"
   ]
  },
  {
   "cell_type": "code",
   "execution_count": 3,
   "id": "d036c160",
   "metadata": {},
   "outputs": [],
   "source": [
    "view(Rz)"
   ]
  },
  {
   "cell_type": "code",
   "execution_count": 8,
   "id": "8be386b3",
   "metadata": {},
   "outputs": [
    {
     "ename": "NameError",
     "evalue": "name 'm' is not defined",
     "output_type": "error",
     "traceback": [
      "\u001b[0;31m---------------------------------------------------------------------------\u001b[0m",
      "\u001b[0;31mNameError\u001b[0m                                 Traceback (most recent call last)",
      "Input \u001b[0;32mIn [8]\u001b[0m, in \u001b[0;36m<cell line: 1>\u001b[0;34m()\u001b[0m\n\u001b[0;32m----> 1\u001b[0m Rz \u001b[38;5;241m=\u001b[39m matrix([[sqrt(x\u001b[38;5;241m+\u001b[39m\u001b[43mm\u001b[49m)],[Integer(\u001b[38;5;241m0\u001b[39m)],[sqrt(x\u001b[38;5;241m-\u001b[39mm)],[Integer(\u001b[38;5;241m0\u001b[39m)]])\n",
      "\u001b[0;31mNameError\u001b[0m: name 'm' is not defined"
     ]
    }
   ],
   "source": [
    "Rz = matrix([[sqrt(x+m)],[0],[sqrt(x-m)],[0]])"
   ]
  },
  {
   "cell_type": "code",
   "execution_count": 6,
   "id": "e95bab92",
   "metadata": {},
   "outputs": [
    {
     "data": {
      "text/plain": [
       "\\left(\\begin{array}{r}\n",
       "0 \\\\\n",
       "1 \\\\\n",
       "0 \\\\\n",
       "0\n",
       "\\end{array}\\right)"
      ]
     },
     "execution_count": 6,
     "metadata": {},
     "output_type": "execute_result"
    }
   ],
   "source": [
    "latex(Rz)"
   ]
  },
  {
   "cell_type": "code",
   "execution_count": 62,
   "id": "6eb8bdd7",
   "metadata": {},
   "outputs": [
    {
     "data": {
      "text/html": [
       "<html>\\(\\displaystyle \\left(\\begin{array}{rr}\n",
       "e^{\\phi} & 0 \\\\\n",
       "0 & e^{\\left(-\\phi\\right)}\n",
       "\\end{array}\\right)\\)</html>"
      ],
      "text/latex": [
       "$\\displaystyle \\left(\\begin{array}{rr}\n",
       "e^{\\phi} & 0 \\\\\n",
       "0 & e^{\\left(-\\phi\\right)}\n",
       "\\end{array}\\right)$"
      ],
      "text/plain": [
       "[   e^phi        0]\n",
       "[       0 e^(-phi)]"
      ]
     },
     "metadata": {},
     "output_type": "display_data"
    },
    {
     "data": {
      "text/plain": [
       "\\left(\\begin{array}{rr}\n",
       "e^{\\phi} & 0 \\\\\n",
       "0 & e^{\\left(-\\phi\\right)}\n",
       "\\end{array}\\right)"
      ]
     },
     "execution_count": 62,
     "metadata": {},
     "output_type": "execute_result"
    }
   ],
   "source": [
    "show(e^(sigmas[2]* phi))\n",
    "latex(e^(sigmas[2]* phi))"
   ]
  },
  {
   "cell_type": "code",
   "execution_count": null,
   "id": "498a56f3",
   "metadata": {},
   "outputs": [],
   "source": []
  },
  {
   "cell_type": "code",
   "execution_count": null,
   "id": "44dcb98f",
   "metadata": {},
   "outputs": [],
   "source": []
  },
  {
   "cell_type": "code",
   "execution_count": 67,
   "id": "afab767c",
   "metadata": {},
   "outputs": [
    {
     "data": {
      "text/plain": [
       "[    e^theta           0]\n",
       "[          0 -e^(-theta)]"
      ]
     },
     "execution_count": 67,
     "metadata": {},
     "output_type": "execute_result"
    }
   ],
   "source": [
    "e^((1/2) * sigmas[2] * theta) *  sigmas[2] *  e^((1/2) * sigmas[2] * theta)"
   ]
  },
  {
   "cell_type": "code",
   "execution_count": 6,
   "id": "8d3003b6",
   "metadata": {},
   "outputs": [
    {
     "data": {
      "text/plain": [
       "\\left(\\begin{array}{rr}\n",
       "1 & 1 \\\\\n",
       "1 & 1\n",
       "\\end{array}\\right)"
      ]
     },
     "execution_count": 6,
     "metadata": {},
     "output_type": "execute_result"
    }
   ],
   "source": [
    "latex(Matrix([[1,1],[1,1]]))"
   ]
  },
  {
   "cell_type": "code",
   "execution_count": null,
   "id": "28858152",
   "metadata": {},
   "outputs": [],
   "source": []
  }
 ],
 "metadata": {
  "kernelspec": {
   "display_name": "SageMath 9.7",
   "language": "sage",
   "name": "sagemath-9.7"
  },
  "language_info": {
   "codemirror_mode": {
    "name": "ipython",
    "version": 3
   },
   "file_extension": ".py",
   "mimetype": "text/x-python",
   "name": "python",
   "nbconvert_exporter": "python",
   "pygments_lexer": "ipython3",
   "version": "3.10.5"
  }
 },
 "nbformat": 4,
 "nbformat_minor": 5
}
