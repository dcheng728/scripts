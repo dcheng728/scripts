{
 "cells": [
  {
   "cell_type": "code",
   "execution_count": 6,
   "id": "213def46",
   "metadata": {},
   "outputs": [],
   "source": [
    "x = PolynomialRing(RationalField(), 'x').gen()\n"
   ]
  },
  {
   "cell_type": "code",
   "execution_count": 17,
   "id": "e979ba7e",
   "metadata": {},
   "outputs": [],
   "source": [
    "f = x^4-2"
   ]
  },
  {
   "cell_type": "code",
   "execution_count": 18,
   "id": "98031419",
   "metadata": {},
   "outputs": [
    {
     "data": {
      "text/plain": [
       "x^4 - 2"
      ]
     },
     "execution_count": 18,
     "metadata": {},
     "output_type": "execute_result"
    }
   ],
   "source": [
    "f.factor()"
   ]
  },
  {
   "cell_type": "code",
   "execution_count": null,
   "id": "f0cf3f7a",
   "metadata": {},
   "outputs": [],
   "source": []
  }
 ],
 "metadata": {
  "kernelspec": {
   "display_name": "SageMath 9.7",
   "language": "sage",
   "name": "sagemath-9.7"
  },
  "language_info": {
   "codemirror_mode": {
    "name": "ipython",
    "version": 3
   },
   "file_extension": ".py",
   "mimetype": "text/x-python",
   "name": "python",
   "nbconvert_exporter": "python",
   "pygments_lexer": "ipython3",
   "version": "3.10.5"
  }
 },
 "nbformat": 4,
 "nbformat_minor": 5
}
